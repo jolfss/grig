{
 "cells": [
  {
   "cell_type": "code",
   "execution_count": 28,
   "metadata": {},
   "outputs": [
    {
     "name": "stdout",
     "output_type": "stream",
     "text": [
      "Concatenated image with labels saved as hpsearch_concat/POS=1_concatenated_grid_labeled.png\n"
     ]
    }
   ],
   "source": [
    "import os\n",
    "from PIL import Image, ImageDraw, ImageFont\n",
    "\n",
    "def concat_images_grid(image_folder, pos_value):\n",
    "    image_files = [f for f in os.listdir(image_folder) if f.endswith('.png') and f.startswith(f\"POS={pos_value}\")]\n",
    "    \n",
    "    image_dict = {}\n",
    "    for image_file in image_files:\n",
    "        parts = image_file.split('_')\n",
    "        dpos = int(parts[1].split('=')[1])\n",
    "        drot = int(parts[2].split('=')[1].split('.')[0])\n",
    "        image_dict[(dpos, drot)] = image_file\n",
    "    \n",
    "    dpos_values = sorted(set([k[0] for k in image_dict.keys()]))\n",
    "    drot_values = sorted(set([k[1] for k in image_dict.keys()]))\n",
    "    \n",
    "    images_grid = []\n",
    "    for dpos in dpos_values:\n",
    "        row_images = []\n",
    "        for drot in drot_values:\n",
    "            image_path = os.path.join(image_folder, image_dict[(dpos, drot)])\n",
    "            row_images.append(Image.open(image_path))\n",
    "        images_grid.append(row_images)\n",
    "\n",
    "    img_width, img_height = images_grid[0][0].size \n",
    "    total_width = img_width * len(drot_values)\n",
    "    total_height = img_height * len(dpos_values)\n",
    "    \n",
    "    concatenated_image = Image.new('RGB', (total_width, total_height))\n",
    "    \n",
    "    draw = ImageDraw.Draw(concatenated_image)\n",
    "    \n",
    "    try:\n",
    "        font = ImageFont.truetype(\"arial.ttf\", 1000) \n",
    "    except IOError:\n",
    "        font = ImageFont.load_default()\n",
    "\n",
    "    for row_idx, row_images in enumerate(images_grid):\n",
    "        for col_idx, image in enumerate(row_images):\n",
    "            concatenated_image.paste(image, (col_idx * img_width, row_idx * img_height))\n",
    "            \n",
    "            label = f\"DPOS={dpos_values[row_idx]}, DROT={drot_values[col_idx]}\"\n",
    "            text_position = (col_idx * img_width + 10, row_idx * img_height + 10)\n",
    "            draw.text(text_position, label, font=font, fill=\"white\")\n",
    "    \n",
    "    output_folder = 'hpsearch_concat'\n",
    "    if not os.path.exists(output_folder):\n",
    "        os.makedirs(output_folder)\n",
    "\n",
    "    output_filename = os.path.join(output_folder, f\"POS={pos_value}_concatenated_grid_labeled.png\")\n",
    "    concatenated_image.save(output_filename)\n",
    "    print(f\"Concatenated image with labels saved as {output_filename}\")\n",
    "\n",
    "concat_images_grid('hpsearch', pos_value=1)\n"
   ]
  }
 ],
 "metadata": {
  "kernelspec": {
   "display_name": "dynamic_gaussians",
   "language": "python",
   "name": "python3"
  },
  "language_info": {
   "codemirror_mode": {
    "name": "ipython",
    "version": 3
   },
   "file_extension": ".py",
   "mimetype": "text/x-python",
   "name": "python",
   "nbconvert_exporter": "python",
   "pygments_lexer": "ipython3",
   "version": "3.7.13"
  }
 },
 "nbformat": 4,
 "nbformat_minor": 2
}
