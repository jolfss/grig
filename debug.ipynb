{
 "cells": [
  {
   "cell_type": "code",
   "execution_count": 1,
   "metadata": {},
   "outputs": [
    {
     "name": "stdout",
     "output_type": "stream",
     "text": [
      "Requirement already satisfied: numpy in /home/pcgta/mambaforge/envs/dynamic_gaussians/lib/python3.7/site-packages (1.21.6)\n"
     ]
    }
   ],
   "source": [
    "!pip install numpy\n"
   ]
  },
  {
   "cell_type": "code",
   "execution_count": 6,
   "metadata": {},
   "outputs": [
    {
     "name": "stdout",
     "output_type": "stream",
     "text": [
      "Keys (array names): ['means3D', 'rgb_colors', 'seg_colors', 'unnorm_rotations', 'logit_opacities', 'log_scales', 'cam_m', 'cam_c']\n",
      "Array 'means3D':\n",
      "Shape of 'means3D': (150, 375870, 3)\n",
      "\n",
      "Array 'rgb_colors':\n",
      "Shape of 'rgb_colors': (150, 375870, 3)\n",
      "\n",
      "Array 'seg_colors':\n",
      "Shape of 'seg_colors': (375870, 3)\n",
      "\n",
      "Array 'unnorm_rotations':\n",
      "Shape of 'unnorm_rotations': (150, 375870, 4)\n",
      "\n",
      "Array 'logit_opacities':\n",
      "Shape of 'logit_opacities': (375870, 1)\n",
      "\n",
      "Array 'log_scales':\n",
      "Shape of 'log_scales': (375870, 3)\n",
      "\n",
      "Array 'cam_m':\n",
      "Shape of 'cam_m': (50, 3)\n",
      "\n",
      "Array 'cam_c':\n",
      "Shape of 'cam_c': (50, 3)\n",
      "\n"
     ]
    }
   ],
   "source": [
    "import numpy as np\n",
    "\n",
    "# Load the .npz file\n",
    "data = np.load('Dynamic3DGaussians/output/pretrained/basketball/params.npz')\n",
    "\n",
    "# View the names of the arrays stored in the file\n",
    "print(\"Keys (array names):\", data.files)\n",
    "\n",
    "# Iterate through the arrays, print their contents and sizes\n",
    "for key in data:\n",
    "    print(f\"Array '{key}':\")\n",
    "    # print(data[key])  # Print the content of the array\n",
    "    print(f\"Shape of '{key}': {data[key].shape}\")  # Print the shape of the array\n",
    "    print()  # Add an empty line for better readability\n"
   ]
  },
  {
   "cell_type": "code",
   "execution_count": null,
   "metadata": {},
   "outputs": [],
   "source": []
  }
 ],
 "metadata": {
  "kernelspec": {
   "display_name": "dynamic_gaussians",
   "language": "python",
   "name": "python3"
  },
  "language_info": {
   "codemirror_mode": {
    "name": "ipython",
    "version": 3
   },
   "file_extension": ".py",
   "mimetype": "text/x-python",
   "name": "python",
   "nbconvert_exporter": "python",
   "pygments_lexer": "ipython3",
   "version": "3.7.13"
  }
 },
 "nbformat": 4,
 "nbformat_minor": 2
}
